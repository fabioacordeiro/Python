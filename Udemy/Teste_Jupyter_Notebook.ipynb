{
 "cells": [
  {
   "cell_type": "markdown",
   "id": "87d608eb",
   "metadata": {},
   "source": [
    "# Este é um exemplo de Notebook"
   ]
  },
  {
   "cell_type": "code",
   "execution_count": 1,
   "id": "352982de",
   "metadata": {},
   "outputs": [],
   "source": [
    "lista = [\n",
    "    {'nome': 'Luiz', 'sobrenome': 'miranda'},\n",
    "    {'nome': 'Maria', 'sobrenome': 'Oliveira'},\n",
    "    {'nome': 'Daniel', 'sobrenome': 'Silva'},\n",
    "    {'nome': 'Eduardo', 'sobrenome': 'Moreira'},\n",
    "    {'nome': 'Aline', 'sobrenome': 'Souza'},\n",
    "]"
   ]
  },
  {
   "cell_type": "code",
   "execution_count": 2,
   "id": "c5863a47",
   "metadata": {},
   "outputs": [
    {
     "name": "stdout",
     "output_type": "stream",
     "text": [
      "[{'nome': 'Luiz', 'sobrenome': 'miranda'}, {'nome': 'Maria', 'sobrenome': 'Oliveira'}, {'nome': 'Daniel', 'sobrenome': 'Silva'}, {'nome': 'Eduardo', 'sobrenome': 'Moreira'}, {'nome': 'Aline', 'sobrenome': 'Souza'}]\n"
     ]
    }
   ],
   "source": [
    "print(lista)"
   ]
  },
  {
   "cell_type": "markdown",
   "id": "f8189b36",
   "metadata": {},
   "source": [
    "### * Negrito *"
   ]
  },
  {
   "cell_type": "markdown",
   "id": "7327d13c",
   "metadata": {},
   "source": [
    ">If you can't explain it simply, you don't understand it well enough. \n",
    ">Albert Einstein"
   ]
  },
  {
   "cell_type": "markdown",
   "id": "e52f7b6d",
   "metadata": {},
   "source": [
    "#### Lista ordenada"
   ]
  },
  {
   "cell_type": "markdown",
   "id": "315f9553",
   "metadata": {},
   "source": [
    "1. Albert Eintein\n",
    "2. Carl Sagan\n",
    "3. Guido Van Rossum"
   ]
  },
  {
   "cell_type": "markdown",
   "id": "a4bde987",
   "metadata": {},
   "source": [
    "### Link do ícone\n"
   ]
  },
  {
   "cell_type": "code",
   "execution_count": null,
   "id": "33b34c08",
   "metadata": {},
   "outputs": [
    {
     "ename": "SyntaxError",
     "evalue": "invalid syntax (1178046636.py, line 2)",
     "output_type": "error",
     "traceback": [
      "\u001b[1;36m  Cell \u001b[1;32mIn[3], line 2\u001b[1;36m\u001b[0m\n\u001b[1;33m    <hef https://upload.wikimedia.org/wikipedia/commons/c/c3/Python-logo-notext.svg/>\u001b[0m\n\u001b[1;37m    ^\u001b[0m\n\u001b[1;31mSyntaxError\u001b[0m\u001b[1;31m:\u001b[0m invalid syntax\n"
     ]
    }
   ],
   "source": [
    "![Logo do Python]\n",
    "<hef https://upload.wikimedia.org/wikipedia/commons/c/c3/Python-logo-notext.svg/>"
   ]
  },
  {
   "cell_type": "code",
   "execution_count": 4,
   "id": "4141bf5c",
   "metadata": {},
   "outputs": [
    {
     "data": {
      "text/html": [
       "<span style=\"color: red;\">\n",
       "<b>ISSO É HTML</b><br />\n",
       "Este texto deve estar vermelho.\n",
       "</span>\n"
      ],
      "text/plain": [
       "<IPython.core.display.HTML object>"
      ]
     },
     "metadata": {},
     "output_type": "display_data"
    }
   ],
   "source": [
    "%%HTML\n",
    "<span style=\"color: red;\">\n",
    "<b>ISSO É HTML</b><br />\n",
    "Este texto deve estar vermelho.\n",
    "</span>"
   ]
  },
  {
   "cell_type": "code",
   "execution_count": 5,
   "id": "9ad2f4be",
   "metadata": {},
   "outputs": [
    {
     "data": {
      "text/html": [
       "<h1>Vídeo do youtube</h1>\n",
       "<iframe width=\"560\" height=\"315\" src=\"https://www.youtube.com/embed/T17BTNKBeJY\" frameborder=\"0\"></iframe>\n"
      ],
      "text/plain": [
       "<IPython.core.display.HTML object>"
      ]
     },
     "metadata": {},
     "output_type": "display_data"
    }
   ],
   "source": [
    "%%HTML\n",
    "<h1>Vídeo do youtube</h1>\n",
    "<iframe width=\"560\" height=\"315\" src=\"https://www.youtube.com/embed/T17BTNKBeJY\" frameborder=\"0\"></iframe>"
   ]
  },
  {
   "cell_type": "markdown",
   "id": "4e8e11bc",
   "metadata": {},
   "source": [
    "## Gráficos com matplotlib"
   ]
  },
  {
   "cell_type": "code",
   "execution_count": 6,
   "id": "944cda73",
   "metadata": {},
   "outputs": [
    {
     "name": "stdout",
     "output_type": "stream",
     "text": [
      "Requirement already satisfied: matplotlib in c:\\fabio\\python\\udemy\\venv\\lib\\site-packages (3.7.1)\n",
      "Requirement already satisfied: contourpy>=1.0.1 in c:\\fabio\\python\\udemy\\venv\\lib\\site-packages (from matplotlib) (1.0.7)\n",
      "Requirement already satisfied: cycler>=0.10 in c:\\fabio\\python\\udemy\\venv\\lib\\site-packages (from matplotlib) (0.11.0)\n",
      "Requirement already satisfied: fonttools>=4.22.0 in c:\\fabio\\python\\udemy\\venv\\lib\\site-packages (from matplotlib) (4.39.3)\n",
      "Requirement already satisfied: kiwisolver>=1.0.1 in c:\\fabio\\python\\udemy\\venv\\lib\\site-packages (from matplotlib) (1.4.4)\n",
      "Requirement already satisfied: numpy>=1.20 in c:\\fabio\\python\\udemy\\venv\\lib\\site-packages (from matplotlib) (1.24.2)\n",
      "Requirement already satisfied: packaging>=20.0 in c:\\fabio\\python\\udemy\\venv\\lib\\site-packages (from matplotlib) (23.1)\n",
      "Requirement already satisfied: pillow>=6.2.0 in c:\\fabio\\python\\udemy\\venv\\lib\\site-packages (from matplotlib) (9.5.0)\n",
      "Requirement already satisfied: pyparsing>=2.3.1 in c:\\fabio\\python\\udemy\\venv\\lib\\site-packages (from matplotlib) (3.0.9)\n",
      "Requirement already satisfied: python-dateutil>=2.7 in c:\\fabio\\python\\udemy\\venv\\lib\\site-packages (from matplotlib) (2.8.2)\n",
      "Requirement already satisfied: six>=1.5 in c:\\fabio\\python\\udemy\\venv\\lib\\site-packages (from python-dateutil>=2.7->matplotlib) (1.16.0)\n"
     ]
    }
   ],
   "source": [
    "!pip install matplotlib"
   ]
  },
  {
   "cell_type": "code",
   "execution_count": 8,
   "id": "c34f9f8c",
   "metadata": {},
   "outputs": [
    {
     "data": {
      "image/png": "[encoded data removed]",
      "text/plain": [
       "<Figure size 640x480 with 1 Axes>"
      ]
     },
     "metadata": {},
     "output_type": "display_data"
    }
   ],
   "source": [
    "import matplotlib.pyplot as plt\n",
    "\n",
    "fig, ax = plt.subplots()\n",
    "\n",
    "fruits = ['apple', 'blueberry', 'cherry', 'orange']\n",
    "counts = [40, 100, 30, 55]\n",
    "bar_labels = ['red', 'blue', 'green', 'orange']\n",
    "bar_colors = ['tab:red', 'tab:blue', 'tab:green', 'tab:orange']\n",
    "\n",
    "ax.bar(fruits, counts, label=bar_labels, color=bar_colors)\n",
    "\n",
    "ax.set_ylabel('fruit supply')\n",
    "ax.set_title('Fruit supply by kind and color')\n",
    "ax.legend(title='Fruit color')\n",
    "\n",
    "plt.show()"
   ]
  },
  {
   "cell_type": "markdown",
   "id": "d6249f8e",
   "metadata": {},
   "source": [
    "### Comandos no seu computador"
   ]
  },
  {
   "cell_type": "markdown",
   "id": "9d2bca09",
   "metadata": {},
   "source": [
    "Use o ! para comandos do seu computador."
   ]
  },
  {
   "cell_type": "code",
   "execution_count": 10,
   "id": "72e7ec56",
   "metadata": {},
   "outputs": [
    {
     "name": "stdout",
     "output_type": "stream",
     "text": [
      "\n",
      "Disparando 127.0.0.1 com 32 bytes de dados:\n",
      "Resposta de 127.0.0.1: bytes=32 tempo<1ms TTL=128\n",
      "Resposta de 127.0.0.1: bytes=32 tempo<1ms TTL=128\n",
      "Resposta de 127.0.0.1: bytes=32 tempo<1ms TTL=128\n",
      "Resposta de 127.0.0.1: bytes=32 tempo<1ms TTL=128\n",
      "\n",
      "Estat¡sticas do Ping para 127.0.0.1:\n",
      "    Pacotes: Enviados = 4, Recebidos = 4, Perdidos = 0 (0% de\n",
      "             perda),\n",
      "Aproximar um n£mero redondo de vezes em milissegundos:\n",
      "    M¡nimo = 0ms, M ximo = 0ms, M‚dia = 0ms\n"
     ]
    }
   ],
   "source": [
    "!ping 127.0.0.1"
   ]
  },
  {
   "cell_type": "markdown",
   "id": "0ba8e39e",
   "metadata": {},
   "source": [
    "# timeit"
   ]
  },
  {
   "cell_type": "code",
   "execution_count": 11,
   "id": "2c5b5204",
   "metadata": {},
   "outputs": [
    {
     "name": "stdout",
     "output_type": "stream",
     "text": [
      "5.6 ms ± 208 µs per loop (mean ± std. dev. of 7 runs, 100 loops each)\n"
     ]
    }
   ],
   "source": [
    "%%timeit\n",
    "lista = [x * 2 for x in range(100000)]"
   ]
  },
  {
   "cell_type": "markdown",
   "id": "f9c65fbd",
   "metadata": {},
   "source": [
    "### Exibindo Pandas Dataframe"
   ]
  },
  {
   "cell_type": "code",
   "execution_count": 13,
   "id": "2217fcf7",
   "metadata": {},
   "outputs": [
    {
     "name": "stdout",
     "output_type": "stream",
     "text": [
      "Requirement already satisfied: numpy in c:\\fabio\\python\\udemy\\venv\\lib\\site-packages (1.24.2)\n"
     ]
    }
   ],
   "source": [
    "!pip install numpy"
   ]
  },
  {
   "cell_type": "code",
   "execution_count": 14,
   "id": "a5ff2961",
   "metadata": {},
   "outputs": [
    {
     "name": "stdout",
     "output_type": "stream",
     "text": [
      "Requirement already satisfied: pandas in c:\\fabio\\python\\udemy\\venv\\lib\\site-packages (2.0.0)\n",
      "Requirement already satisfied: python-dateutil>=2.8.2 in c:\\fabio\\python\\udemy\\venv\\lib\\site-packages (from pandas) (2.8.2)\n",
      "Requirement already satisfied: pytz>=2020.1 in c:\\fabio\\python\\udemy\\venv\\lib\\site-packages (from pandas) (2023.3)\n",
      "Requirement already satisfied: tzdata>=2022.1 in c:\\fabio\\python\\udemy\\venv\\lib\\site-packages (from pandas) (2023.3)\n",
      "Requirement already satisfied: numpy>=1.21.0 in c:\\fabio\\python\\udemy\\venv\\lib\\site-packages (from pandas) (1.24.2)\n",
      "Requirement already satisfied: six>=1.5 in c:\\fabio\\python\\udemy\\venv\\lib\\site-packages (from python-dateutil>=2.8.2->pandas) (1.16.0)\n"
     ]
    }
   ],
   "source": [
    "!pip install pandas"
   ]
  },
  {
   "cell_type": "code",
   "execution_count": 15,
   "id": "d587917a",
   "metadata": {},
   "outputs": [
    {
     "data": {
      "text/html": [
       "<div>\n",
       "<style scoped>\n",
       "    .dataframe tbody tr th:only-of-type {\n",
       "        vertical-align: middle;\n",
       "    }\n",
       "\n",
       "    .dataframe tbody tr th {\n",
       "        vertical-align: top;\n",
       "    }\n",
       "\n",
       "    .dataframe thead th {\n",
       "        text-align: right;\n",
       "    }\n",
       "</style>\n",
       "<table border=\"1\" class=\"dataframe\">\n",
       "  <thead>\n",
       "    <tr style=\"text-align: right;\">\n",
       "      <th></th>\n",
       "      <th>0</th>\n",
       "      <th>1</th>\n",
       "      <th>2</th>\n",
       "      <th>3</th>\n",
       "      <th>4</th>\n",
       "    </tr>\n",
       "  </thead>\n",
       "  <tbody>\n",
       "    <tr>\n",
       "      <th>0</th>\n",
       "      <td>-0.793800</td>\n",
       "      <td>-1.609579</td>\n",
       "      <td>1.475380</td>\n",
       "      <td>-0.476667</td>\n",
       "      <td>-0.647228</td>\n",
       "    </tr>\n",
       "    <tr>\n",
       "      <th>1</th>\n",
       "      <td>0.712735</td>\n",
       "      <td>-0.521858</td>\n",
       "      <td>-1.802467</td>\n",
       "      <td>-0.904725</td>\n",
       "      <td>0.512882</td>\n",
       "    </tr>\n",
       "    <tr>\n",
       "      <th>2</th>\n",
       "      <td>-0.097399</td>\n",
       "      <td>0.835222</td>\n",
       "      <td>-1.928767</td>\n",
       "      <td>-1.049938</td>\n",
       "      <td>0.879761</td>\n",
       "    </tr>\n",
       "    <tr>\n",
       "      <th>3</th>\n",
       "      <td>-0.085517</td>\n",
       "      <td>1.502405</td>\n",
       "      <td>-0.162823</td>\n",
       "      <td>-1.786720</td>\n",
       "      <td>-1.518483</td>\n",
       "    </tr>\n",
       "    <tr>\n",
       "      <th>4</th>\n",
       "      <td>-0.633932</td>\n",
       "      <td>0.277620</td>\n",
       "      <td>0.471032</td>\n",
       "      <td>1.591674</td>\n",
       "      <td>0.466329</td>\n",
       "    </tr>\n",
       "    <tr>\n",
       "      <th>5</th>\n",
       "      <td>-1.804296</td>\n",
       "      <td>-0.007106</td>\n",
       "      <td>-0.211948</td>\n",
       "      <td>0.170258</td>\n",
       "      <td>-0.920038</td>\n",
       "    </tr>\n",
       "    <tr>\n",
       "      <th>6</th>\n",
       "      <td>-1.539037</td>\n",
       "      <td>-1.984729</td>\n",
       "      <td>1.147986</td>\n",
       "      <td>-0.565022</td>\n",
       "      <td>1.773505</td>\n",
       "    </tr>\n",
       "    <tr>\n",
       "      <th>7</th>\n",
       "      <td>0.017555</td>\n",
       "      <td>1.372566</td>\n",
       "      <td>0.077554</td>\n",
       "      <td>-0.854109</td>\n",
       "      <td>-0.251169</td>\n",
       "    </tr>\n",
       "    <tr>\n",
       "      <th>8</th>\n",
       "      <td>0.081065</td>\n",
       "      <td>2.109164</td>\n",
       "      <td>1.857871</td>\n",
       "      <td>-0.888616</td>\n",
       "      <td>-1.165947</td>\n",
       "    </tr>\n",
       "    <tr>\n",
       "      <th>9</th>\n",
       "      <td>2.481138</td>\n",
       "      <td>0.271061</td>\n",
       "      <td>-0.203097</td>\n",
       "      <td>1.793458</td>\n",
       "      <td>0.202036</td>\n",
       "    </tr>\n",
       "    <tr>\n",
       "      <th>10</th>\n",
       "      <td>0.454839</td>\n",
       "      <td>-0.626647</td>\n",
       "      <td>-0.125741</td>\n",
       "      <td>-0.702072</td>\n",
       "      <td>0.111419</td>\n",
       "    </tr>\n",
       "    <tr>\n",
       "      <th>11</th>\n",
       "      <td>0.308483</td>\n",
       "      <td>0.092331</td>\n",
       "      <td>0.313417</td>\n",
       "      <td>0.456780</td>\n",
       "      <td>1.138278</td>\n",
       "    </tr>\n",
       "    <tr>\n",
       "      <th>12</th>\n",
       "      <td>0.584572</td>\n",
       "      <td>0.687469</td>\n",
       "      <td>0.068098</td>\n",
       "      <td>-1.169591</td>\n",
       "      <td>2.332750</td>\n",
       "    </tr>\n",
       "    <tr>\n",
       "      <th>13</th>\n",
       "      <td>1.589210</td>\n",
       "      <td>-0.141946</td>\n",
       "      <td>0.690270</td>\n",
       "      <td>1.383804</td>\n",
       "      <td>0.652072</td>\n",
       "    </tr>\n",
       "    <tr>\n",
       "      <th>14</th>\n",
       "      <td>0.352688</td>\n",
       "      <td>-0.197010</td>\n",
       "      <td>-0.918513</td>\n",
       "      <td>-1.073784</td>\n",
       "      <td>-1.412086</td>\n",
       "    </tr>\n",
       "    <tr>\n",
       "      <th>15</th>\n",
       "      <td>0.518251</td>\n",
       "      <td>-0.150693</td>\n",
       "      <td>-0.348849</td>\n",
       "      <td>-1.439077</td>\n",
       "      <td>-0.083469</td>\n",
       "    </tr>\n",
       "    <tr>\n",
       "      <th>16</th>\n",
       "      <td>0.359340</td>\n",
       "      <td>0.919781</td>\n",
       "      <td>0.398336</td>\n",
       "      <td>-1.201091</td>\n",
       "      <td>-1.690867</td>\n",
       "    </tr>\n",
       "    <tr>\n",
       "      <th>17</th>\n",
       "      <td>0.195856</td>\n",
       "      <td>1.042896</td>\n",
       "      <td>-0.728440</td>\n",
       "      <td>0.398596</td>\n",
       "      <td>0.065510</td>\n",
       "    </tr>\n",
       "  </tbody>\n",
       "</table>\n",
       "</div>"
      ],
      "text/plain": [
       "           0         1         2         3         4\n",
       "0  -0.793800 -1.609579  1.475380 -0.476667 -0.647228\n",
       "1   0.712735 -0.521858 -1.802467 -0.904725  0.512882\n",
       "2  -0.097399  0.835222 -1.928767 -1.049938  0.879761\n",
       "3  -0.085517  1.502405 -0.162823 -1.786720 -1.518483\n",
       "4  -0.633932  0.277620  0.471032  1.591674  0.466329\n",
       "5  -1.804296 -0.007106 -0.211948  0.170258 -0.920038\n",
       "6  -1.539037 -1.984729  1.147986 -0.565022  1.773505\n",
       "7   0.017555  1.372566  0.077554 -0.854109 -0.251169\n",
       "8   0.081065  2.109164  1.857871 -0.888616 -1.165947\n",
       "9   2.481138  0.271061 -0.203097  1.793458  0.202036\n",
       "10  0.454839 -0.626647 -0.125741 -0.702072  0.111419\n",
       "11  0.308483  0.092331  0.313417  0.456780  1.138278\n",
       "12  0.584572  0.687469  0.068098 -1.169591  2.332750\n",
       "13  1.589210 -0.141946  0.690270  1.383804  0.652072\n",
       "14  0.352688 -0.197010 -0.918513 -1.073784 -1.412086\n",
       "15  0.518251 -0.150693 -0.348849 -1.439077 -0.083469\n",
       "16  0.359340  0.919781  0.398336 -1.201091 -1.690867\n",
       "17  0.195856  1.042896 -0.728440  0.398596  0.065510"
      ]
     },
     "execution_count": 15,
     "metadata": {},
     "output_type": "execute_result"
    }
   ],
   "source": [
    "import pandas as pd\n",
    "import numpy as np\n",
    "\n",
    "df = pd.DataFrame(np.random.randn(18,5))\n",
    "df"
   ]
  },
  {
   "cell_type": "code",
   "execution_count": null,
   "id": "2c435473",
   "metadata": {},
   "outputs": [],
   "source": []
  }
 ],
 "metadata": {
  "kernelspec": {
   "display_name": "Python 3 (ipykernel)",
   "language": "python",
   "name": "python3"
  },
  "language_info": {
   "codemirror_mode": {
    "name": "ipython",
    "version": 3
   },
   "file_extension": ".py",
   "mimetype": "text/x-python",
   "name": "python",
   "nbconvert_exporter": "python",
   "pygments_lexer": "ipython3",
   "version": "3.11.1"
  }
 },
 "nbformat": 4,
 "nbformat_minor": 5
}
