{
 "cells": [
  {
   "cell_type": "code",
   "execution_count": null,
   "id": "262c9fe1-3c84-4199-a872-6e58eaeedd55",
   "metadata": {},
   "outputs": [],
   "source": [
    "#Gráfico "
   ]
  },
  {
   "cell_type": "code",
   "execution_count": 1,
   "id": "f334872a-f675-4301-8f2b-04112d4def75",
   "metadata": {},
   "outputs": [],
   "source": [
    "import folium\n",
    "import numpy as np\n",
    "from folium.plugins import HeatMap"
   ]
  },
  {
   "cell_type": "code",
   "execution_count": 3,
   "id": "b6bcf780-0bd8-403c-9758-a5feafa09eca",
   "metadata": {},
   "outputs": [],
   "source": [
    "dados = np.genfromtxt(\"cidades_visitadas.csv\", delimiter=\",\")"
   ]
  },
  {
   "cell_type": "code",
   "execution_count": 4,
   "id": "09efd70c-a67a-4b9b-a489-b4249429fcdc",
   "metadata": {},
   "outputs": [
    {
     "data": {
      "text/plain": [
       "array([[ 4.76069253e+01, -1.22332458e+02,  7.00000000e+00],\n",
       "       [ 2.85384763e+01, -8.13824926e+01,  4.00000000e+00],\n",
       "       [ 4.46509842e+01, -6.36044151e+01,  6.00000000e+02],\n",
       "       [ 4.68196763e+01, -7.11678123e+01,  2.00000000e+00],\n",
       "       [ 4.62861027e+01, -6.08735448e+01,  5.00000000e+00],\n",
       "       [ 4.36893121e+01, -7.93497829e+01,  1.00000000e+00],\n",
       "       [ 5.21563513e+01, -1.06669218e+02,  4.00000000e+00],\n",
       "       [ 4.92101881e+01, -1.23183644e+02,  3.00000000e+01],\n",
       "       [ 4.84286381e+01, -1.23365195e+02,  2.00000000e+01],\n",
       "       [ 1.85619218e+01, -6.83786572e+01,  7.00000000e+00],\n",
       "       [-3.46049898e+01, -5.83778536e+01,  3.00000000e+00],\n",
       "       [-3.29657898e+01, -7.05613513e+01,  4.00000000e+00],\n",
       "       [-2.40630531e+01, -5.43137251e+01,  1.00000000e+00],\n",
       "       [ 5.15029203e+01, -1.29070387e-01,  5.00000000e+00],\n",
       "       [ 5.07223119e+01, -1.86986709e+00,  1.50000000e+01],\n",
       "       [ 5.13784069e+01, -2.35852223e+00,  1.00000000e+01],\n",
       "       [ 4.88565748e+01,  2.28763860e+00,  2.00000000e+01],\n",
       "       [ 5.12211179e+01,  4.44380907e+00,  9.00000000e+01],\n",
       "       [ 3.79717539e+01,  2.37227177e+01,  7.00000000e+00],\n",
       "       [ 5.19118094e+01,  4.51191097e+00,  1.00000000e+00],\n",
       "       [ 4.96121136e+01,  6.13260139e+00,  4.00000000e+00],\n",
       "       [ 3.87256781e+01, -9.14011932e+00,  1.00000000e+00],\n",
       "       [ 4.19023120e+01,  1.24645798e+01,  3.00000000e+00],\n",
       "       [ 4.54381940e+01,  1.23378878e+01,  1.00000000e+00],\n",
       "       [ 5.25188800e+01,  1.33800940e+01,  7.00000000e+00],\n",
       "       [ 5.00782673e+01,  1.44092709e+01,  3.00000000e+00],\n",
       "       [ 4.81489827e+01,  1.71488697e+01,  1.00000000e+00],\n",
       "       [ 4.74973677e+01,  1.90424060e+01,  2.00000000e+00],\n",
       "       [ 6.01830134e+01,  2.49376375e+01,  5.00000000e+00]])"
      ]
     },
     "execution_count": 4,
     "metadata": {},
     "output_type": "execute_result"
    }
   ],
   "source": [
    "dados"
   ]
  },
  {
   "cell_type": "markdown",
   "id": "bc2ae171-d652-427b-a29f-a058b160fe8e",
   "metadata": {},
   "source": [
    "#mapa"
   ]
  },
  {
   "cell_type": "code",
   "execution_count": 7,
   "id": "a2f2aa4d-8291-462c-8fae-c78ce36a10f9",
   "metadata": {},
   "outputs": [],
   "source": [
    "escala_de_cores = {0.2:\"#F7EC09\", 0.4:\"#3EC70B\", 0.6:\"#3B44F6\", 1:\"#A149FA\"}"
   ]
  },
  {
   "cell_type": "code",
   "execution_count": 8,
   "id": "4ddfe383-8e6e-447c-b7b7-be58448afa19",
   "metadata": {},
   "outputs": [
    {
     "data": {
      "text/html": [
       "<div style=\"width:100%;\"><div style=\"position:relative;width:100%;height:0;padding-bottom:60%;\"><span style=\"color:#565656\">Make this Notebook Trusted to load map: File -> Trust Notebook</span><iframe srcdoc=\"&lt;!DOCTYPE html&gt;\n",
       "&lt;html&gt;\n",
       "&lt;head&gt;\n",
       "    \n",
       "    &lt;meta http-equiv=&quot;content-type&quot; content=&quot;text/html; charset=UTF-8&quot; /&gt;\n",
       "    \n",
       "        &lt;script&gt;\n",
       "            L_NO_TOUCH = false;\n",
       "            L_DISABLE_3D = false;\n",
       "        &lt;/script&gt;\n",
       "    \n",
       "    &lt;style&gt;html, body {width: 100%;height: 100%;margin: 0;padding: 0;}&lt;/style&gt;\n",
       "    &lt;style&gt;#map {position:absolute;top:0;bottom:0;right:0;left:0;}&lt;/style&gt;\n",
       "    &lt;script src=&quot;https://cdn.jsdelivr.net/npm/leaflet@1.9.3/dist/leaflet.js&quot;&gt;&lt;/script&gt;\n",
       "    &lt;script src=&quot;https://code.jquery.com/jquery-1.12.4.min.js&quot;&gt;&lt;/script&gt;\n",
       "    &lt;script src=&quot;https://cdn.jsdelivr.net/npm/bootstrap@5.2.2/dist/js/bootstrap.bundle.min.js&quot;&gt;&lt;/script&gt;\n",
       "    &lt;script src=&quot;https://cdnjs.cloudflare.com/ajax/libs/Leaflet.awesome-markers/2.0.2/leaflet.awesome-markers.js&quot;&gt;&lt;/script&gt;\n",
       "    &lt;link rel=&quot;stylesheet&quot; href=&quot;https://cdn.jsdelivr.net/npm/leaflet@1.9.3/dist/leaflet.css&quot;/&gt;\n",
       "    &lt;link rel=&quot;stylesheet&quot; href=&quot;https://cdn.jsdelivr.net/npm/bootstrap@5.2.2/dist/css/bootstrap.min.css&quot;/&gt;\n",
       "    &lt;link rel=&quot;stylesheet&quot; href=&quot;https://netdna.bootstrapcdn.com/bootstrap/3.0.0/css/bootstrap.min.css&quot;/&gt;\n",
       "    &lt;link rel=&quot;stylesheet&quot; href=&quot;https://cdn.jsdelivr.net/npm/@fortawesome/fontawesome-free@6.2.0/css/all.min.css&quot;/&gt;\n",
       "    &lt;link rel=&quot;stylesheet&quot; href=&quot;https://cdnjs.cloudflare.com/ajax/libs/Leaflet.awesome-markers/2.0.2/leaflet.awesome-markers.css&quot;/&gt;\n",
       "    &lt;link rel=&quot;stylesheet&quot; href=&quot;https://cdn.jsdelivr.net/gh/python-visualization/folium/folium/templates/leaflet.awesome.rotate.min.css&quot;/&gt;\n",
       "    \n",
       "            &lt;meta name=&quot;viewport&quot; content=&quot;width=device-width,\n",
       "                initial-scale=1.0, maximum-scale=1.0, user-scalable=no&quot; /&gt;\n",
       "            &lt;style&gt;\n",
       "                #map_6948bfb54dd84764676107a145f7e259 {\n",
       "                    position: relative;\n",
       "                    width: 100.0%;\n",
       "                    height: 100.0%;\n",
       "                    left: 0.0%;\n",
       "                    top: 0.0%;\n",
       "                }\n",
       "                .leaflet-container { font-size: 1rem; }\n",
       "            &lt;/style&gt;\n",
       "        \n",
       "    &lt;script src=&quot;https://cdn.jsdelivr.net/gh/python-visualization/folium@main/folium/templates/leaflet_heat.min.js&quot;&gt;&lt;/script&gt;\n",
       "&lt;/head&gt;\n",
       "&lt;body&gt;\n",
       "    \n",
       "    \n",
       "            &lt;div class=&quot;folium-map&quot; id=&quot;map_6948bfb54dd84764676107a145f7e259&quot; &gt;&lt;/div&gt;\n",
       "        \n",
       "&lt;/body&gt;\n",
       "&lt;script&gt;\n",
       "    \n",
       "    \n",
       "            var map_6948bfb54dd84764676107a145f7e259 = L.map(\n",
       "                &quot;map_6948bfb54dd84764676107a145f7e259&quot;,\n",
       "                {\n",
       "                    center: [0.0, 0.0],\n",
       "                    crs: L.CRS.EPSG3857,\n",
       "                    zoom: 3,\n",
       "                    zoomControl: true,\n",
       "                    preferCanvas: false,\n",
       "                }\n",
       "            );\n",
       "\n",
       "            \n",
       "\n",
       "        \n",
       "    \n",
       "            var tile_layer_62963a2623b38706fc4552e68b89ef4d = L.tileLayer(\n",
       "                &quot;https://cartodb-basemaps-{s}.global.ssl.fastly.net/light_all/{z}/{x}/{y}.png&quot;,\n",
       "                {&quot;attribution&quot;: &quot;\\u0026copy; \\u003ca target=\\&quot;_blank\\&quot; href=\\&quot;http://www.openstreetmap.org/copyright\\&quot;\\u003eOpenStreetMap\\u003c/a\\u003e contributors \\u0026copy; \\u003ca target=\\&quot;_blank\\&quot; href=\\&quot;http://cartodb.com/attributions\\&quot;\\u003eCartoDB\\u003c/a\\u003e, CartoDB \\u003ca target=\\&quot;_blank\\&quot; href =\\&quot;http://cartodb.com/attributions\\&quot;\\u003eattributions\\u003c/a\\u003e&quot;, &quot;detectRetina&quot;: false, &quot;maxNativeZoom&quot;: 18, &quot;maxZoom&quot;: 18, &quot;minZoom&quot;: 0, &quot;noWrap&quot;: false, &quot;opacity&quot;: 1, &quot;subdomains&quot;: &quot;abc&quot;, &quot;tms&quot;: false}\n",
       "            ).addTo(map_6948bfb54dd84764676107a145f7e259);\n",
       "        \n",
       "    \n",
       "            var heat_map_a39eb732248cd891818e10e0c79b5fed = L.heatLayer(\n",
       "                [[47.60692525, -122.3324578, 7.0], [28.53847633, -81.38249264, 4.0], [44.6509842, -63.60441511, 600.0], [46.81967631, -71.16781228, 2.0], [46.28610273, -60.87354481, 5.0], [43.68931207, -79.34978289, 1.0], [52.15635133, -106.6692185, 4.0], [49.2101881, -123.1836437, 30.0], [48.42863805, -123.3651948, 20.0], [18.56192177, -68.37865721, 7.0], [-34.60498976, -58.37785358, 3.0], [-32.96578977, -70.56135126, 4.0], [-24.06305308, -54.31372506, 1.0], [51.5029203, -0.129070387, 5.0], [50.72231195, -1.86986709, 15.0], [51.37840692, -2.358522229, 10.0], [48.85657481, 2.287638597, 20.0], [51.2211179, 4.443809068, 90.0], [37.97175393, 23.72271771, 7.0], [51.91180942, 4.511910968, 1.0], [49.61211362, 6.132601393, 4.0], [38.72567813, -9.140119324, 1.0], [41.90231203, 12.46457982, 3.0], [45.43819402, 12.33788778, 1.0], [52.51887997, 13.38009399, 7.0], [50.07826733, 14.40927085, 3.0], [48.14898266, 17.14886973, 1.0], [47.49736767, 19.04240601, 2.0], [60.18301341, 24.93763745, 5.0]],\n",
       "                {&quot;blur&quot;: 15, &quot;maxZoom&quot;: 18, &quot;minOpacity&quot;: 0.5, &quot;radius&quot;: 25}\n",
       "            ).addTo(map_6948bfb54dd84764676107a145f7e259);\n",
       "        \n",
       "&lt;/script&gt;\n",
       "&lt;/html&gt;\" style=\"position:absolute;width:100%;height:100%;left:0;top:0;border:none !important;\" allowfullscreen webkitallowfullscreen mozallowfullscreen></iframe></div></div>"
      ],
      "text/plain": [
       "<folium.folium.Map at 0x9da12d8ad0>"
      ]
     },
     "execution_count": 8,
     "metadata": {},
     "output_type": "execute_result"
    }
   ],
   "source": [
    "mapa = folium.Map([0,0], zoom_start = 3, tiles = \"cartodbpositron\")\n",
    "HeatMap(dados).add_to(mapa)\n",
    "mapa"
   ]
  },
  {
   "cell_type": "code",
   "execution_count": 9,
   "id": "ea2c67b8-8f2a-49b9-9902-8ae347512c9c",
   "metadata": {},
   "outputs": [
    {
     "data": {
      "text/html": [
       "<div style=\"width:100%;\"><div style=\"position:relative;width:100%;height:0;padding-bottom:60%;\"><span style=\"color:#565656\">Make this Notebook Trusted to load map: File -> Trust Notebook</span><iframe srcdoc=\"&lt;!DOCTYPE html&gt;\n",
       "&lt;html&gt;\n",
       "&lt;head&gt;\n",
       "    \n",
       "    &lt;meta http-equiv=&quot;content-type&quot; content=&quot;text/html; charset=UTF-8&quot; /&gt;\n",
       "    \n",
       "        &lt;script&gt;\n",
       "            L_NO_TOUCH = false;\n",
       "            L_DISABLE_3D = false;\n",
       "        &lt;/script&gt;\n",
       "    \n",
       "    &lt;style&gt;html, body {width: 100%;height: 100%;margin: 0;padding: 0;}&lt;/style&gt;\n",
       "    &lt;style&gt;#map {position:absolute;top:0;bottom:0;right:0;left:0;}&lt;/style&gt;\n",
       "    &lt;script src=&quot;https://cdn.jsdelivr.net/npm/leaflet@1.9.3/dist/leaflet.js&quot;&gt;&lt;/script&gt;\n",
       "    &lt;script src=&quot;https://code.jquery.com/jquery-1.12.4.min.js&quot;&gt;&lt;/script&gt;\n",
       "    &lt;script src=&quot;https://cdn.jsdelivr.net/npm/bootstrap@5.2.2/dist/js/bootstrap.bundle.min.js&quot;&gt;&lt;/script&gt;\n",
       "    &lt;script src=&quot;https://cdnjs.cloudflare.com/ajax/libs/Leaflet.awesome-markers/2.0.2/leaflet.awesome-markers.js&quot;&gt;&lt;/script&gt;\n",
       "    &lt;link rel=&quot;stylesheet&quot; href=&quot;https://cdn.jsdelivr.net/npm/leaflet@1.9.3/dist/leaflet.css&quot;/&gt;\n",
       "    &lt;link rel=&quot;stylesheet&quot; href=&quot;https://cdn.jsdelivr.net/npm/bootstrap@5.2.2/dist/css/bootstrap.min.css&quot;/&gt;\n",
       "    &lt;link rel=&quot;stylesheet&quot; href=&quot;https://netdna.bootstrapcdn.com/bootstrap/3.0.0/css/bootstrap.min.css&quot;/&gt;\n",
       "    &lt;link rel=&quot;stylesheet&quot; href=&quot;https://cdn.jsdelivr.net/npm/@fortawesome/fontawesome-free@6.2.0/css/all.min.css&quot;/&gt;\n",
       "    &lt;link rel=&quot;stylesheet&quot; href=&quot;https://cdnjs.cloudflare.com/ajax/libs/Leaflet.awesome-markers/2.0.2/leaflet.awesome-markers.css&quot;/&gt;\n",
       "    &lt;link rel=&quot;stylesheet&quot; href=&quot;https://cdn.jsdelivr.net/gh/python-visualization/folium/folium/templates/leaflet.awesome.rotate.min.css&quot;/&gt;\n",
       "    \n",
       "            &lt;meta name=&quot;viewport&quot; content=&quot;width=device-width,\n",
       "                initial-scale=1.0, maximum-scale=1.0, user-scalable=no&quot; /&gt;\n",
       "            &lt;style&gt;\n",
       "                #map_6948bfb54dd84764676107a145f7e259 {\n",
       "                    position: relative;\n",
       "                    width: 100.0%;\n",
       "                    height: 100.0%;\n",
       "                    left: 0.0%;\n",
       "                    top: 0.0%;\n",
       "                }\n",
       "                .leaflet-container { font-size: 1rem; }\n",
       "            &lt;/style&gt;\n",
       "        \n",
       "    &lt;script src=&quot;https://cdn.jsdelivr.net/gh/python-visualization/folium@main/folium/templates/leaflet_heat.min.js&quot;&gt;&lt;/script&gt;\n",
       "&lt;/head&gt;\n",
       "&lt;body&gt;\n",
       "    \n",
       "    \n",
       "            &lt;div class=&quot;folium-map&quot; id=&quot;map_6948bfb54dd84764676107a145f7e259&quot; &gt;&lt;/div&gt;\n",
       "        \n",
       "&lt;/body&gt;\n",
       "&lt;script&gt;\n",
       "    \n",
       "    \n",
       "            var map_6948bfb54dd84764676107a145f7e259 = L.map(\n",
       "                &quot;map_6948bfb54dd84764676107a145f7e259&quot;,\n",
       "                {\n",
       "                    center: [0.0, 0.0],\n",
       "                    crs: L.CRS.EPSG3857,\n",
       "                    zoom: 3,\n",
       "                    zoomControl: true,\n",
       "                    preferCanvas: false,\n",
       "                }\n",
       "            );\n",
       "\n",
       "            \n",
       "\n",
       "        \n",
       "    \n",
       "            var tile_layer_62963a2623b38706fc4552e68b89ef4d = L.tileLayer(\n",
       "                &quot;https://cartodb-basemaps-{s}.global.ssl.fastly.net/light_all/{z}/{x}/{y}.png&quot;,\n",
       "                {&quot;attribution&quot;: &quot;\\u0026copy; \\u003ca target=\\&quot;_blank\\&quot; href=\\&quot;http://www.openstreetmap.org/copyright\\&quot;\\u003eOpenStreetMap\\u003c/a\\u003e contributors \\u0026copy; \\u003ca target=\\&quot;_blank\\&quot; href=\\&quot;http://cartodb.com/attributions\\&quot;\\u003eCartoDB\\u003c/a\\u003e, CartoDB \\u003ca target=\\&quot;_blank\\&quot; href =\\&quot;http://cartodb.com/attributions\\&quot;\\u003eattributions\\u003c/a\\u003e&quot;, &quot;detectRetina&quot;: false, &quot;maxNativeZoom&quot;: 18, &quot;maxZoom&quot;: 18, &quot;minZoom&quot;: 0, &quot;noWrap&quot;: false, &quot;opacity&quot;: 1, &quot;subdomains&quot;: &quot;abc&quot;, &quot;tms&quot;: false}\n",
       "            ).addTo(map_6948bfb54dd84764676107a145f7e259);\n",
       "        \n",
       "    \n",
       "            var heat_map_a39eb732248cd891818e10e0c79b5fed = L.heatLayer(\n",
       "                [[47.60692525, -122.3324578, 7.0], [28.53847633, -81.38249264, 4.0], [44.6509842, -63.60441511, 600.0], [46.81967631, -71.16781228, 2.0], [46.28610273, -60.87354481, 5.0], [43.68931207, -79.34978289, 1.0], [52.15635133, -106.6692185, 4.0], [49.2101881, -123.1836437, 30.0], [48.42863805, -123.3651948, 20.0], [18.56192177, -68.37865721, 7.0], [-34.60498976, -58.37785358, 3.0], [-32.96578977, -70.56135126, 4.0], [-24.06305308, -54.31372506, 1.0], [51.5029203, -0.129070387, 5.0], [50.72231195, -1.86986709, 15.0], [51.37840692, -2.358522229, 10.0], [48.85657481, 2.287638597, 20.0], [51.2211179, 4.443809068, 90.0], [37.97175393, 23.72271771, 7.0], [51.91180942, 4.511910968, 1.0], [49.61211362, 6.132601393, 4.0], [38.72567813, -9.140119324, 1.0], [41.90231203, 12.46457982, 3.0], [45.43819402, 12.33788778, 1.0], [52.51887997, 13.38009399, 7.0], [50.07826733, 14.40927085, 3.0], [48.14898266, 17.14886973, 1.0], [47.49736767, 19.04240601, 2.0], [60.18301341, 24.93763745, 5.0]],\n",
       "                {&quot;blur&quot;: 15, &quot;maxZoom&quot;: 18, &quot;minOpacity&quot;: 0.5, &quot;radius&quot;: 25}\n",
       "            ).addTo(map_6948bfb54dd84764676107a145f7e259);\n",
       "        \n",
       "    \n",
       "            var heat_map_5e8f84c0ef7af69fdd52513db508520b = L.heatLayer(\n",
       "                [[47.60692525, -122.3324578, 7.0], [28.53847633, -81.38249264, 4.0], [44.6509842, -63.60441511, 600.0], [46.81967631, -71.16781228, 2.0], [46.28610273, -60.87354481, 5.0], [43.68931207, -79.34978289, 1.0], [52.15635133, -106.6692185, 4.0], [49.2101881, -123.1836437, 30.0], [48.42863805, -123.3651948, 20.0], [18.56192177, -68.37865721, 7.0], [-34.60498976, -58.37785358, 3.0], [-32.96578977, -70.56135126, 4.0], [-24.06305308, -54.31372506, 1.0], [51.5029203, -0.129070387, 5.0], [50.72231195, -1.86986709, 15.0], [51.37840692, -2.358522229, 10.0], [48.85657481, 2.287638597, 20.0], [51.2211179, 4.443809068, 90.0], [37.97175393, 23.72271771, 7.0], [51.91180942, 4.511910968, 1.0], [49.61211362, 6.132601393, 4.0], [38.72567813, -9.140119324, 1.0], [41.90231203, 12.46457982, 3.0], [45.43819402, 12.33788778, 1.0], [52.51887997, 13.38009399, 7.0], [50.07826733, 14.40927085, 3.0], [48.14898266, 17.14886973, 1.0], [47.49736767, 19.04240601, 2.0], [60.18301341, 24.93763745, 5.0]],\n",
       "                {&quot;blur&quot;: 15, &quot;gradiente&quot;: {&quot;0.2&quot;: &quot;#F7EC09&quot;, &quot;0.4&quot;: &quot;#3EC70B&quot;, &quot;0.6&quot;: &quot;#3B44F6&quot;, &quot;1&quot;: &quot;#A149FA&quot;}, &quot;maxZoom&quot;: 18, &quot;minOpacity&quot;: 0.5, &quot;radius&quot;: 25}\n",
       "            ).addTo(map_6948bfb54dd84764676107a145f7e259);\n",
       "        \n",
       "&lt;/script&gt;\n",
       "&lt;/html&gt;\" style=\"position:absolute;width:100%;height:100%;left:0;top:0;border:none !important;\" allowfullscreen webkitallowfullscreen mozallowfullscreen></iframe></div></div>"
      ],
      "text/plain": [
       "<folium.folium.Map at 0x9da12d8ad0>"
      ]
     },
     "execution_count": 9,
     "metadata": {},
     "output_type": "execute_result"
    }
   ],
   "source": [
    "HeatMap(dados, gradiente=escala_de_cores).add_to(mapa)\n",
    "mapa"
   ]
  },
  {
   "cell_type": "code",
   "execution_count": null,
   "id": "640c34d4-5c96-460a-abb5-b20f5fe5172c",
   "metadata": {},
   "outputs": [],
   "source": []
  }
 ],
 "metadata": {
  "kernelspec": {
   "display_name": "Python 3 (ipykernel)",
   "language": "python",
   "name": "python3"
  },
  "language_info": {
   "codemirror_mode": {
    "name": "ipython",
    "version": 3
   },
   "file_extension": ".py",
   "mimetype": "text/x-python",
   "name": "python",
   "nbconvert_exporter": "python",
   "pygments_lexer": "ipython3",
   "version": "3.11.4"
  }
 },
 "nbformat": 4,
 "nbformat_minor": 5
}
