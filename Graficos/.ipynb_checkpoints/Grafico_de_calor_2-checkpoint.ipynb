{
 "cells": [
  {
   "cell_type": "markdown",
   "id": "4246dc3d-8fba-45ad-a1e2-794681132be0",
   "metadata": {},
   "source": [
    "#Gerando gráficos de calor"
   ]
  },
  {
   "cell_type": "markdown",
   "id": "7b1b219e-5fbe-43f3-bb5d-920374d013c3",
   "metadata": {},
   "source": [
    "#https://github.com/ComputerScienceMaster/Exemplos/tree/master/Aplica%C3%A7%C3%B5es/Mapa%20de%20Calor"
   ]
  },
  {
   "cell_type": "code",
   "execution_count": 1,
   "id": "aa064bef-41f9-41be-bf0a-1e634994b6c6",
   "metadata": {},
   "outputs": [],
   "source": [
    "#! pip install pandas\n",
    "import pandas as pd"
   ]
  },
  {
   "cell_type": "code",
   "execution_count": 10,
   "id": "cf18bf44-ca98-483a-9c79-afddf7329ca4",
   "metadata": {},
   "outputs": [],
   "source": [
    "df = pd.read_csv(\"university.csv\", delimiter=\",\")"
   ]
  },
  {
   "cell_type": "code",
   "execution_count": 11,
   "id": "97452c54-2038-4b27-8d9e-2d948da890b4",
   "metadata": {},
   "outputs": [
    {
     "data": {
      "text/html": [
       "<div>\n",
       "<style scoped>\n",
       "    .dataframe tbody tr th:only-of-type {\n",
       "        vertical-align: middle;\n",
       "    }\n",
       "\n",
       "    .dataframe tbody tr th {\n",
       "        vertical-align: top;\n",
       "    }\n",
       "\n",
       "    .dataframe thead th {\n",
       "        text-align: right;\n",
       "    }\n",
       "</style>\n",
       "<table border=\"1\" class=\"dataframe\">\n",
       "  <thead>\n",
       "    <tr style=\"text-align: right;\">\n",
       "      <th></th>\n",
       "      <th>longitude</th>\n",
       "      <th>latitude</th>\n",
       "    </tr>\n",
       "  </thead>\n",
       "  <tbody>\n",
       "    <tr>\n",
       "      <th>0</th>\n",
       "      <td>45.388396</td>\n",
       "      <td>-75.687351</td>\n",
       "    </tr>\n",
       "    <tr>\n",
       "      <th>1</th>\n",
       "      <td>38.994069</td>\n",
       "      <td>-3.920627</td>\n",
       "    </tr>\n",
       "    <tr>\n",
       "      <th>2</th>\n",
       "      <td>56.180775</td>\n",
       "      <td>15.590720</td>\n",
       "    </tr>\n",
       "    <tr>\n",
       "      <th>3</th>\n",
       "      <td>-21.777019</td>\n",
       "      <td>-43.368962</td>\n",
       "    </tr>\n",
       "    <tr>\n",
       "      <th>4</th>\n",
       "      <td>40.768811</td>\n",
       "      <td>14.791941</td>\n",
       "    </tr>\n",
       "    <tr>\n",
       "      <th>...</th>\n",
       "      <td>...</td>\n",
       "      <td>...</td>\n",
       "    </tr>\n",
       "    <tr>\n",
       "      <th>263</th>\n",
       "      <td>53.343774</td>\n",
       "      <td>-6.254443</td>\n",
       "    </tr>\n",
       "    <tr>\n",
       "      <th>264</th>\n",
       "      <td>40.630885</td>\n",
       "      <td>22.959222</td>\n",
       "    </tr>\n",
       "    <tr>\n",
       "      <th>265</th>\n",
       "      <td>39.357775</td>\n",
       "      <td>22.950578</td>\n",
       "    </tr>\n",
       "    <tr>\n",
       "      <th>266</th>\n",
       "      <td>-27.600679</td>\n",
       "      <td>-48.519169</td>\n",
       "    </tr>\n",
       "    <tr>\n",
       "      <th>267</th>\n",
       "      <td>-27.539241</td>\n",
       "      <td>-48.508076</td>\n",
       "    </tr>\n",
       "  </tbody>\n",
       "</table>\n",
       "<p>268 rows × 2 columns</p>\n",
       "</div>"
      ],
      "text/plain": [
       "     longitude   latitude\n",
       "0    45.388396 -75.687351\n",
       "1    38.994069  -3.920627\n",
       "2    56.180775  15.590720\n",
       "3   -21.777019 -43.368962\n",
       "4    40.768811  14.791941\n",
       "..         ...        ...\n",
       "263  53.343774  -6.254443\n",
       "264  40.630885  22.959222\n",
       "265  39.357775  22.950578\n",
       "266 -27.600679 -48.519169\n",
       "267 -27.539241 -48.508076\n",
       "\n",
       "[268 rows x 2 columns]"
      ]
     },
     "execution_count": 11,
     "metadata": {},
     "output_type": "execute_result"
    }
   ],
   "source": [
    "df"
   ]
  },
  {
   "cell_type": "code",
   "execution_count": 12,
   "id": "c7afc824-44c2-4dbe-bda9-02795ee7217e",
   "metadata": {},
   "outputs": [
    {
     "name": "stdout",
     "output_type": "stream",
     "text": [
      "0.14.0\n"
     ]
    }
   ],
   "source": [
    "import os\n",
    "import folium\n",
    "\n",
    "print(folium.__version__)"
   ]
  },
  {
   "cell_type": "markdown",
   "id": "c83e8213-12af-4da7-9970-88343e291940",
   "metadata": {},
   "source": [
    "# API que busca as coordenadas latitude e Longitude a partir de um endereço"
   ]
  },
  {
   "cell_type": "code",
   "execution_count": 13,
   "id": "2dd55bae-c8cf-491b-86bd-505972c38faa",
   "metadata": {},
   "outputs": [],
   "source": [
    "from folium.plugins import HeatMap"
   ]
  },
  {
   "cell_type": "code",
   "execution_count": 14,
   "id": "bb199f38-eba1-4e9c-905f-d963edf722f8",
   "metadata": {},
   "outputs": [],
   "source": [
    "m = folium.Map([48., 5.], tiles='stamentoner', zoom_start=6)"
   ]
  },
  {
   "cell_type": "code",
   "execution_count": 15,
   "id": "e671f64c-8c02-4e6e-a568-a5a8c009cb11",
   "metadata": {},
   "outputs": [
    {
     "data": {
      "text/plain": [
       "<folium.plugins.heat_map.HeatMap at 0xb7a1098210>"
      ]
     },
     "execution_count": 15,
     "metadata": {},
     "output_type": "execute_result"
    }
   ],
   "source": [
    "HeatMap(df).add_to(m)"
   ]
  },
  {
   "cell_type": "code",
   "execution_count": 16,
   "id": "12a791b8-4bed-4dff-be7f-8a9b9ab03669",
   "metadata": {},
   "outputs": [],
   "source": [
    "m.save(os.path.join('results', 'Heatmap1.html'))"
   ]
  },
  {
   "cell_type": "code",
   "execution_count": 17,
   "id": "2bf1c2c4-dea0-4ce9-882a-fba21ecf8ce1",
   "metadata": {},
   "outputs": [
    {
     "data": {
      "text/html": [
       "<div style=\"width:100%;\"><div style=\"position:relative;width:100%;height:0;padding-bottom:60%;\"><span style=\"color:#565656\">Make this Notebook Trusted to load map: File -> Trust Notebook</span><iframe srcdoc=\"&lt;!DOCTYPE html&gt;\n",
       "&lt;html&gt;\n",
       "&lt;head&gt;\n",
       "    \n",
       "    &lt;meta http-equiv=&quot;content-type&quot; content=&quot;text/html; charset=UTF-8&quot; /&gt;\n",
       "    \n",
       "        &lt;script&gt;\n",
       "            L_NO_TOUCH = false;\n",
       "            L_DISABLE_3D = false;\n",
       "        &lt;/script&gt;\n",
       "    \n",
       "    &lt;style&gt;html, body {width: 100%;height: 100%;margin: 0;padding: 0;}&lt;/style&gt;\n",
       "    &lt;style&gt;#map {position:absolute;top:0;bottom:0;right:0;left:0;}&lt;/style&gt;\n",
       "    &lt;script src=&quot;https://cdn.jsdelivr.net/npm/leaflet@1.9.3/dist/leaflet.js&quot;&gt;&lt;/script&gt;\n",
       "    &lt;script src=&quot;https://code.jquery.com/jquery-1.12.4.min.js&quot;&gt;&lt;/script&gt;\n",
       "    &lt;script src=&quot;https://cdn.jsdelivr.net/npm/bootstrap@5.2.2/dist/js/bootstrap.bundle.min.js&quot;&gt;&lt;/script&gt;\n",
       "    &lt;script src=&quot;https://cdnjs.cloudflare.com/ajax/libs/Leaflet.awesome-markers/2.0.2/leaflet.awesome-markers.js&quot;&gt;&lt;/script&gt;\n",
       "    &lt;link rel=&quot;stylesheet&quot; href=&quot;https://cdn.jsdelivr.net/npm/leaflet@1.9.3/dist/leaflet.css&quot;/&gt;\n",
       "    &lt;link rel=&quot;stylesheet&quot; href=&quot;https://cdn.jsdelivr.net/npm/bootstrap@5.2.2/dist/css/bootstrap.min.css&quot;/&gt;\n",
       "    &lt;link rel=&quot;stylesheet&quot; href=&quot;https://netdna.bootstrapcdn.com/bootstrap/3.0.0/css/bootstrap.min.css&quot;/&gt;\n",
       "    &lt;link rel=&quot;stylesheet&quot; href=&quot;https://cdn.jsdelivr.net/npm/@fortawesome/fontawesome-free@6.2.0/css/all.min.css&quot;/&gt;\n",
       "    &lt;link rel=&quot;stylesheet&quot; href=&quot;https://cdnjs.cloudflare.com/ajax/libs/Leaflet.awesome-markers/2.0.2/leaflet.awesome-markers.css&quot;/&gt;\n",
       "    &lt;link rel=&quot;stylesheet&quot; href=&quot;https://cdn.jsdelivr.net/gh/python-visualization/folium/folium/templates/leaflet.awesome.rotate.min.css&quot;/&gt;\n",
       "    \n",
       "            &lt;meta name=&quot;viewport&quot; content=&quot;width=device-width,\n",
       "                initial-scale=1.0, maximum-scale=1.0, user-scalable=no&quot; /&gt;\n",
       "            &lt;style&gt;\n",
       "                #map_8f4352b9ef6fbf92af6b7c15c31dcb71 {\n",
       "                    position: relative;\n",
       "                    width: 100.0%;\n",
       "                    height: 100.0%;\n",
       "                    left: 0.0%;\n",
       "                    top: 0.0%;\n",
       "                }\n",
       "                .leaflet-container { font-size: 1rem; }\n",
       "            &lt;/style&gt;\n",
       "        \n",
       "    &lt;script src=&quot;https://cdn.jsdelivr.net/gh/python-visualization/folium@main/folium/templates/leaflet_heat.min.js&quot;&gt;&lt;/script&gt;\n",
       "&lt;/head&gt;\n",
       "&lt;body&gt;\n",
       "    \n",
       "    \n",
       "            &lt;div class=&quot;folium-map&quot; id=&quot;map_8f4352b9ef6fbf92af6b7c15c31dcb71&quot; &gt;&lt;/div&gt;\n",
       "        \n",
       "&lt;/body&gt;\n",
       "&lt;script&gt;\n",
       "    \n",
       "    \n",
       "            var map_8f4352b9ef6fbf92af6b7c15c31dcb71 = L.map(\n",
       "                &quot;map_8f4352b9ef6fbf92af6b7c15c31dcb71&quot;,\n",
       "                {\n",
       "                    center: [48.0, 5.0],\n",
       "                    crs: L.CRS.EPSG3857,\n",
       "                    zoom: 6,\n",
       "                    zoomControl: true,\n",
       "                    preferCanvas: false,\n",
       "                }\n",
       "            );\n",
       "\n",
       "            \n",
       "\n",
       "        \n",
       "    \n",
       "            var tile_layer_dd451eaf85f2f96ff8f46c82257c48a1 = L.tileLayer(\n",
       "                &quot;https://stamen-tiles-{s}.a.ssl.fastly.net/toner/{z}/{x}/{y}.png&quot;,\n",
       "                {&quot;attribution&quot;: &quot;Map tiles by \\u003ca target=\\&quot;_blank\\&quot; href=\\&quot;http://stamen.com\\&quot;\\u003eStamen Design\\u003c/a\\u003e, under \\u003ca target=\\&quot;_blank\\&quot; href=\\&quot;http://creativecommons.org/licenses/by/3.0\\&quot;\\u003eCC BY 3.0\\u003c/a\\u003e. Data by \\u0026copy; \\u003ca target=\\&quot;_blank\\&quot; href=\\&quot;http://openstreetmap.org\\&quot;\\u003eOpenStreetMap\\u003c/a\\u003e, under \\u003ca target=\\&quot;_blank\\&quot; href=\\&quot;http://www.openstreetmap.org/copyright\\&quot;\\u003eODbL\\u003c/a\\u003e.&quot;, &quot;detectRetina&quot;: false, &quot;maxNativeZoom&quot;: 18, &quot;maxZoom&quot;: 18, &quot;minZoom&quot;: 0, &quot;noWrap&quot;: false, &quot;opacity&quot;: 1, &quot;subdomains&quot;: &quot;abc&quot;, &quot;tms&quot;: false}\n",
       "            ).addTo(map_8f4352b9ef6fbf92af6b7c15c31dcb71);\n",
       "        \n",
       "    \n",
       "            var heat_map_d7c05deb4352acbf956e2474919e8beb = L.heatLayer(\n",
       "                [[45.388396, -75.687351], [38.994069, -3.920627], [56.180775, 15.59072], [-21.777019, -43.368962], [40.768811, 14.791941], [51.524532, -0.134158], [38.054833, -122.298931], [48.14986, 11.568161], [41.388004, 2.113119], [53.946065, -1.051697], [48.21325, 16.360168], [65.059286, 25.466304], [47.263508, 11.383858], [-8.051616, -34.950994], [3.342049, -76.530611], [40.451473, -3.702278], [32.056931, 118.779131], [55.711972, 13.203622], [43.662884, -79.395828], [-33.917436, 151.231289], [53.003489, -2.271967], [26.307412, 50.145846], [37.380758, -5.991199], [-34.900763, -56.173365], [39.480699, -0.340748], [30.536279, 114.36474], [-37.82215, 145.039276], [52.333763, 4.86558], [1.563493, 103.638595], [47.281315, -1.519786], [53.219334, 6.563009], [-43.523462, 172.584503], [-13.003362, -38.509702], [34.6738, -82.836704], [46.498608, 11.351697], [40.573546, -105.085869], [51.107389, 17.061796], [56.854455, 14.829768], [50.048783, 19.9294], [43.657581, -79.378759], [39.891104, 32.778025], [51.077638, -114.140738], [-34.918992, 138.603765], [40.006894, -83.030665], [-22.954299, -43.175482], [60.450976, 22.277815], [52.67362, -8.572215], [53.527872, -113.51718], [49.419175, 8.670421], [25.340815, 49.599776], [60.186754, 24.827613], [45.504429, -73.612894], [43.369473, -8.419908], [48.422302, 9.955571], [63.419495, 10.401994], [-23.206689, -45.861156], [-20.276954, -40.304581], [-24.987602, -53.448795], [39.81576, 32.723867], [-33.883215, 151.200536], [2.999795, 101.711843], [22.436824, -79.900625], [50.878029, 4.700295], [51.44857, 5.490747], [33.987922, -6.858644], [45.494531, -73.562171], [29.341754, 47.921119], [-25.439298, -49.268882], [-23.561642, -46.730698], [39.874499, 32.747543], [51.984847, 5.665255], [40.972976, 29.152662], [45.814355, 8.827549], [48.33655, 14.319241], [49.483857, 8.462362], [3.120954, 101.653832], [51.563969, 5.043518], [22.305371, 114.179344], [33.425653, -111.928425], [-30.059202, -51.172992], [40.625032, 22.960089], [35.785889, -78.680819], [40.443281, -79.943911], [13.5579, 80.027161], [33.213916, -87.539367], [49.011906, 8.416987], [49.504269, 5.948374], [-36.852376, 174.76915], [52.090179, 5.12287], [51.995923, 4.376189], [24.73607, 46.701353], [46.813323, -71.222363], [24.717091, 46.643372], [-22.909966, -43.192304], [-12.993397, -38.522458], [3.250503, 101.734664], [21.330048, 39.948744], [24.23525, 55.891474], [57.689758, 11.974165], [57.698235, 11.971749], [52.356187, 4.955724], [-19.943621, -43.925505], [23.76861, 90.404435], [41.705563, -86.235363], [42.360115, -71.09431], [54.010375, -2.787944], [-19.870662, -43.967843], [59.618665, 16.540448], [-38.747761, -72.616589], [38.385076, -0.514402], [-5.21268, -37.320853], [45.190773, 5.767173], [-5.840626, -35.200639], [-12.96092, -38.43191], [39.25551, -76.711053], [46.559233, 15.643264], [40.443281, -79.943945], [-37.846062, 145.114203], [33.65171, 73.156389], [40.43896, -3.625885], [-23.591566, -46.649054], [39.87166, 32.736538], [37.546409, 126.964848], [37.565912, 126.938615], [-35.404206, -71.635301], [34.666589, 72.029039], [48.213399, 16.408552], [54.97915, -1.614779], [22.3375, 114.171995], [22.59466, 113.991237], [22.28327, 114.137739], [55.680164, 12.572356], [34.76149, 72.360227], [33.988475, -6.857718], [47.482002, 8.211435], [43.33139, -2.970531], [42.453462, -76.47351], [38.986943, -76.942597], [30.35312, 76.371113], [52.450804, -1.930502], [-3.74186, -38.539063], [-33.888552, 151.187359], [44.475022, 8.906315], [45.437053, 11.00361], [44.414915, 8.926745], [40.208866, -8.424022], [41.146645, -8.615678], [-37.916621, 145.150745], [35.3049, -120.662526], [-45.864616, 170.514391], [-7.135777, -34.873958], [-7.217126, -35.909764], [-25.426923, -49.261791], [41.105521, 29.025211], [59.939851, 10.721632], [-12.656972, -39.093715], [-15.763188, -47.87073], [39.132772, -84.515026], [39.815753, 32.723859], [35.832225, 128.757585], [-34.903814, -56.190594], [49.871425, 8.6383], [43.076587, -89.412465], [-3.788582, -38.55366], [-27.356547, -70.352753], [40.448547, -3.71928], [40.820172, -96.700508], [41.560756, -8.396333], [60.182446, 24.826435], [-20.503891, -54.613672], [-16.675908, -49.241548], [-21.983222, -47.883077], [36.309943, 59.529412], [53.837022, 10.700494], [22.143925, -101.014151], [-22.99572, -43.36158], [53.308167, -6.224551], [45.458098, -73.640294], [52.356704, 4.95187], [52.273972, 10.52881], [51.864511, 8.296253], [51.755552, -1.25884], [50.933631, -1.395307], [51.507226, 0.064834], [51.222736, 4.410361], [-33.444518, -70.650941], [3.064732, 101.600854], [43.473133, -80.54168], [51.427731, 6.801029], [31.396159, 75.535348], [35.708742, 139.719684], [38.319112, 26.643182], [-37.720642, 145.048682], [-36.822498, -73.013278], [38.899831, -77.046164], [55.369031, 10.428236], [62.236512, 25.731706], [54.764905, -1.578203], [52.073027, -0.614097], [29.083485, -110.960394], [-21.22925, -44.977604], [48.198669, 16.36842], [50.466246, 4.8601], [51.532411, -0.472972], [53.559645, -2.873753], [51.754053, -0.243983], [40.347192, -3.846428], [3.543703, 103.428901], [42.16995, -8.685311], [-32.916895, -68.842586], [56.168031, 10.202701], [57.014508, 9.981896], [40.862256, -74.198141], [34.035851, -84.581922], [46.897753, -96.80248], [33.455129, -88.79458], [40.614021, -79.16137], [35.72351, 51.383975], [60.456213, 22.285114], [61.449762, 23.858966], [43.084603, -77.674354], [45.191161, 5.717342], [42.351387, 13.397203], [38.733782, -9.160333], [-28.947412, -49.493412], [-25.474824, -49.300814], [4.383728, 100.971427], [51.511506, -0.115997], [32.622215, 51.660258], [63.419729, 10.401777], [59.138764, 9.67213], [-12.199526, -38.966571], [4.601504, -74.066387], [52.140658, 11.645693], [46.950475, 7.437969], [-41.290386, 174.76879], [29.529775, 106.56926], [43.716739, 10.398816], [51.563845, 5.043369], [59.406568, 13.581065], [37.590816, 127.027756], [48.781622, 9.171855], [48.198748, 16.368709], [63.104268, 21.593661], [-29.795211, -51.152318], [49.597901, 11.004551], [49.594429, 11.020931], [25.281285, 110.299186], [-36.798674, -73.056089], [52.133269, 9.975468], [40.322191, 21.790997], [47.375245, 8.548481], [52.3828, 9.71912], [45.46, 9.194692], [41.120482, 16.868464], [45.537875, 10.217286], [43.845553, 10.510826], [24.860034, 67.069836], [60.172592, 24.95101], [42.344402, 13.397729], [50.813254, 4.382051], [41.04552, 29.019674], [41.10557, 29.02534], [53.343774, -6.254443], [40.630885, 22.959222], [39.357775, 22.950578], [-27.600679, -48.519169], [-27.539241, -48.508076]],\n",
       "                {&quot;blur&quot;: 15, &quot;maxZoom&quot;: 18, &quot;minOpacity&quot;: 0.5, &quot;radius&quot;: 25}\n",
       "            ).addTo(map_8f4352b9ef6fbf92af6b7c15c31dcb71);\n",
       "        \n",
       "&lt;/script&gt;\n",
       "&lt;/html&gt;\" style=\"position:absolute;width:100%;height:100%;left:0;top:0;border:none !important;\" allowfullscreen webkitallowfullscreen mozallowfullscreen></iframe></div></div>"
      ],
      "text/plain": [
       "<folium.folium.Map at 0xb7a1038290>"
      ]
     },
     "execution_count": 17,
     "metadata": {},
     "output_type": "execute_result"
    }
   ],
   "source": [
    "m"
   ]
  },
  {
   "cell_type": "code",
   "execution_count": null,
   "id": "b9f4d588-75be-43ef-9cea-458daa928b33",
   "metadata": {},
   "outputs": [],
   "source": []
  }
 ],
 "metadata": {
  "kernelspec": {
   "display_name": "Python 3 (ipykernel)",
   "language": "python",
   "name": "python3"
  },
  "language_info": {
   "codemirror_mode": {
    "name": "ipython",
    "version": 3
   },
   "file_extension": ".py",
   "mimetype": "text/x-python",
   "name": "python",
   "nbconvert_exporter": "python",
   "pygments_lexer": "ipython3",
   "version": "3.11.4"
  }
 },
 "nbformat": 4,
 "nbformat_minor": 5
}
