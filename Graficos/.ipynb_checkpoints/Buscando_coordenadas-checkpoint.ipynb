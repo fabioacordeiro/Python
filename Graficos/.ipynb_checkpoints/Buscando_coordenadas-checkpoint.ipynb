{
 "cells": [
  {
   "cell_type": "markdown",
   "id": "294dcbce-d195-4ef2-84fa-2754b7312743",
   "metadata": {},
   "source": [
    "# Buscando coordenadas"
   ]
  },
  {
   "cell_type": "code",
   "execution_count": 2,
   "id": "7b627509-ca7b-4912-aced-b1b37a3c3086",
   "metadata": {},
   "outputs": [],
   "source": [
    "from geopy.geocoders import Nominatim"
   ]
  },
  {
   "cell_type": "code",
   "execution_count": 54,
   "id": "0ff4f8fd-6267-4209-9032-0672f409c5e4",
   "metadata": {},
   "outputs": [],
   "source": [
    "locator = Nominatim(user_agent=\"myGeocoder\")\n",
    "location = locator.geocode(\"Avenida Tenente Marques, 2771 - Centro - Polvilho - Cajamar - São Paulo - Brasil\")"
   ]
  },
  {
   "cell_type": "code",
   "execution_count": 55,
   "id": "cfa5002f-5053-4c5f-94c0-d82ec4e1a741",
   "metadata": {},
   "outputs": [
    {
     "data": {
      "text/plain": [
       "Location(Avenida Tenente Marques, Jardim Planalto, Paraíso, Polvilho, Cajamar, Região Imediata de São Paulo, Região Metropolitana de São Paulo, Região Geográfica Intermediária de São Paulo, São Paulo, Região Sudeste, 07793-455, Brasil, (-23.4094481, -46.8300682, 0.0))"
      ]
     },
     "execution_count": 55,
     "metadata": {},
     "output_type": "execute_result"
    }
   ],
   "source": [
    "location"
   ]
  },
  {
   "cell_type": "code",
   "execution_count": 56,
   "id": "af6aef77-ff3d-4460-aa94-2f23670fed96",
   "metadata": {},
   "outputs": [
    {
     "data": {
      "text/plain": [
       "(-23.4094481, -46.8300682)"
      ]
     },
     "execution_count": 56,
     "metadata": {},
     "output_type": "execute_result"
    }
   ],
   "source": [
    "location.latitude, location.longitude"
   ]
  },
  {
   "cell_type": "code",
   "execution_count": 57,
   "id": "62d313b6-bf34-4eda-882f-26804ae8f53f",
   "metadata": {},
   "outputs": [],
   "source": [
    "location.point\n",
    "Ponto_A = location.latitude, location.longitude"
   ]
  },
  {
   "cell_type": "code",
   "execution_count": 58,
   "id": "bef14888-5b7a-4f86-b1a2-fda8c5f6f3c8",
   "metadata": {},
   "outputs": [
    {
     "data": {
      "text/plain": [
       "'Avenida Tenente Marques, Jardim Planalto, Paraíso, Polvilho, Cajamar, Região Imediata de São Paulo, Região Metropolitana de São Paulo, Região Geográfica Intermediária de São Paulo, São Paulo, Região Sudeste, 07793-455, Brasil'"
      ]
     },
     "execution_count": 58,
     "metadata": {},
     "output_type": "execute_result"
    }
   ],
   "source": [
    "location.address"
   ]
  },
  {
   "cell_type": "code",
   "execution_count": 59,
   "id": "b7e6b90a-ca7f-4222-829c-65496ea1008b",
   "metadata": {},
   "outputs": [
    {
     "data": {
      "text/plain": [
       "'Avenida Tenente Marques, Jardim Planalto, Paraíso, Polvilho, Cajamar, Região Imediata de São Paulo, Região Metropolitana de São Paulo, Região Geográfica Intermediária de São Paulo, São Paulo, Região Sudeste, 07793-455, Brasil'"
      ]
     },
     "execution_count": 59,
     "metadata": {},
     "output_type": "execute_result"
    }
   ],
   "source": [
    "location[0]"
   ]
  },
  {
   "cell_type": "code",
   "execution_count": 60,
   "id": "5084c63e-05bf-4a24-a266-d105018384ca",
   "metadata": {},
   "outputs": [
    {
     "data": {
      "text/plain": [
       "(-23.4094481, -46.8300682)"
      ]
     },
     "execution_count": 60,
     "metadata": {},
     "output_type": "execute_result"
    }
   ],
   "source": [
    "location[1]"
   ]
  },
  {
   "cell_type": "code",
   "execution_count": 69,
   "id": "6eaa391c-c950-45b4-8748-b90bf1844c39",
   "metadata": {},
   "outputs": [],
   "source": [
    "locator = Nominatim(user_agent=\"myGeocoder\")\n",
    "location = locator.geocode(\"Alameda Lorena, 58 - Jardim Paulista, São Paulo - SP, 01424-000 - Brasil\")"
   ]
  },
  {
   "cell_type": "code",
   "execution_count": null,
   "id": "649349db-c600-46cf-8931-1ff56c94e9d0",
   "metadata": {},
   "outputs": [],
   "source": []
  },
  {
   "cell_type": "markdown",
   "id": "5ee50872-6a4f-4806-9769-ddd8c49f0078",
   "metadata": {},
   "source": [
    "## Importando o limitador para listas porque o uso do arquivo é limitado"
   ]
  },
  {
   "cell_type": "code",
   "execution_count": 83,
   "id": "8b2092fc-55bc-47fb-992a-63b61f8aeb41",
   "metadata": {},
   "outputs": [],
   "source": [
    "from geopy.extra.rate_limiter import RateLimiter\n",
    "import pandas as pd"
   ]
  },
  {
   "cell_type": "code",
   "execution_count": 84,
   "id": "7d316763-7b3d-4412-92a2-2d0dff596c14",
   "metadata": {},
   "outputs": [],
   "source": [
    "dados = pd.read_csv(\"enderecos.csv\", delimiter=\",\")"
   ]
  },
  {
   "cell_type": "code",
   "execution_count": 88,
   "id": "736c2018-9813-4e46-ba79-5b84ca2c4fbf",
   "metadata": {},
   "outputs": [],
   "source": [
    "geocode = RateLimiter(locator.geocode, min_delay_seconds=1)"
   ]
  },
  {
   "cell_type": "code",
   "execution_count": 96,
   "id": "e6d1e62f-1dcd-49e0-be1b-9171de07256b",
   "metadata": {},
   "outputs": [],
   "source": [
    "dados[\"End Completo\"] = dados[\"rua\"]+\",\"+dados[\"cidade\"]+\",\"+dados[\"estado\"]+\",\"+ dados[\"pais\"]"
   ]
  },
  {
   "cell_type": "code",
   "execution_count": 97,
   "id": "1dee2643-c11e-41f0-b38d-0872eb7c9808",
   "metadata": {},
   "outputs": [
    {
     "data": {
      "text/html": [
       "<div>\n",
       "<style scoped>\n",
       "    .dataframe tbody tr th:only-of-type {\n",
       "        vertical-align: middle;\n",
       "    }\n",
       "\n",
       "    .dataframe tbody tr th {\n",
       "        vertical-align: top;\n",
       "    }\n",
       "\n",
       "    .dataframe thead th {\n",
       "        text-align: right;\n",
       "    }\n",
       "</style>\n",
       "<table border=\"1\" class=\"dataframe\">\n",
       "  <thead>\n",
       "    <tr style=\"text-align: right;\">\n",
       "      <th></th>\n",
       "      <th>rua</th>\n",
       "      <th>cidade</th>\n",
       "      <th>estado</th>\n",
       "      <th>pais</th>\n",
       "      <th>lat e long</th>\n",
       "      <th>End Completo</th>\n",
       "    </tr>\n",
       "  </thead>\n",
       "  <tbody>\n",
       "    <tr>\n",
       "      <th>0</th>\n",
       "      <td>Avenida São carlos 1771</td>\n",
       "      <td>São Carlos</td>\n",
       "      <td>São paulo</td>\n",
       "      <td>Brasil</td>\n",
       "      <td>NaN</td>\n",
       "      <td>Avenida São carlos 1771, São Carlos, São paulo...</td>\n",
       "    </tr>\n",
       "    <tr>\n",
       "      <th>1</th>\n",
       "      <td>Rua salomão dibbo 374</td>\n",
       "      <td>São carlos</td>\n",
       "      <td>São paulo</td>\n",
       "      <td>Brasil</td>\n",
       "      <td>NaN</td>\n",
       "      <td>Rua salomão dibbo 374, São carlos, São paulo, ...</td>\n",
       "    </tr>\n",
       "    <tr>\n",
       "      <th>2</th>\n",
       "      <td>Rua São Sebastião 1974</td>\n",
       "      <td>São carlos</td>\n",
       "      <td>São paulo</td>\n",
       "      <td>Brasil</td>\n",
       "      <td>NaN</td>\n",
       "      <td>Rua São Sebastião 1974, São carlos, São paulo,...</td>\n",
       "    </tr>\n",
       "    <tr>\n",
       "      <th>3</th>\n",
       "      <td>Rua 15 de novembro 12</td>\n",
       "      <td>São carlos</td>\n",
       "      <td>São paulo</td>\n",
       "      <td>Brasil</td>\n",
       "      <td>NaN</td>\n",
       "      <td>Rua 15 de novembro 12, São carlos, São paulo, ...</td>\n",
       "    </tr>\n",
       "    <tr>\n",
       "      <th>4</th>\n",
       "      <td>Avenida comendador alfredo maffei</td>\n",
       "      <td>São Carlos</td>\n",
       "      <td>São paulo</td>\n",
       "      <td>Brasil</td>\n",
       "      <td>NaN</td>\n",
       "      <td>Avenida comendador alfredo maffei, São Carlos,...</td>\n",
       "    </tr>\n",
       "    <tr>\n",
       "      <th>5</th>\n",
       "      <td>Avenida Doutor carlos botelho 2120</td>\n",
       "      <td>São Carlos</td>\n",
       "      <td>São paulo</td>\n",
       "      <td>Brasil</td>\n",
       "      <td>NaN</td>\n",
       "      <td>Avenida Doutor carlos botelho 2120, São Carlos...</td>\n",
       "    </tr>\n",
       "  </tbody>\n",
       "</table>\n",
       "</div>"
      ],
      "text/plain": [
       "                                  rua       cidade      estado     pais  \\\n",
       "0             Avenida São carlos 1771   São Carlos   São paulo   Brasil   \n",
       "1               Rua salomão dibbo 374   São carlos   São paulo   Brasil   \n",
       "2              Rua São Sebastião 1974   São carlos   São paulo   Brasil   \n",
       "3               Rua 15 de novembro 12   São carlos   São paulo   Brasil   \n",
       "4   Avenida comendador alfredo maffei   São Carlos   São paulo   Brasil   \n",
       "5  Avenida Doutor carlos botelho 2120   São Carlos   São paulo   Brasil   \n",
       "\n",
       "  lat e long                                       End Completo  \n",
       "0        NaN  Avenida São carlos 1771, São Carlos, São paulo...  \n",
       "1        NaN  Rua salomão dibbo 374, São carlos, São paulo, ...  \n",
       "2        NaN  Rua São Sebastião 1974, São carlos, São paulo,...  \n",
       "3        NaN  Rua 15 de novembro 12, São carlos, São paulo, ...  \n",
       "4        NaN  Avenida comendador alfredo maffei, São Carlos,...  \n",
       "5        NaN  Avenida Doutor carlos botelho 2120, São Carlos...  "
      ]
     },
     "execution_count": 97,
     "metadata": {},
     "output_type": "execute_result"
    }
   ],
   "source": [
    "dados"
   ]
  },
  {
   "cell_type": "code",
   "execution_count": 98,
   "id": "211ca635-b13e-4bbd-ba2d-88f10b8387d0",
   "metadata": {},
   "outputs": [],
   "source": [
    "dados[\"lat e long\"] = dados[\"End Completo\"].apply(geocode)"
   ]
  },
  {
   "cell_type": "code",
   "execution_count": 139,
   "id": "ba7e4ac5-2565-4e2b-846c-8eb10bbea34f",
   "metadata": {},
   "outputs": [],
   "source": [
    "dados1 = dados[\"lat e long\"]"
   ]
  },
  {
   "cell_type": "code",
   "execution_count": 140,
   "id": "b6090cbc-bb2f-4a84-a12a-3fd218c0b49c",
   "metadata": {},
   "outputs": [
    {
     "data": {
      "text/plain": [
       "Location(Rua São Sebastião, Parque Santa Mônica, Jardim Santa Felícia, São Carlos, Região Imediata de São Carlos, Região Geográfica Intermediária de Araraquara, São Paulo, Região Sudeste, 13561-180, Brasil, (-22.0133689, -47.9033425, 0.0))"
      ]
     },
     "execution_count": 140,
     "metadata": {},
     "output_type": "execute_result"
    }
   ],
   "source": [
    "dados1[2]"
   ]
  },
  {
   "cell_type": "code",
   "execution_count": 143,
   "id": "0e6b4fc1-914a-4f33-885f-dc3b4b200934",
   "metadata": {},
   "outputs": [
    {
     "name": "stdout",
     "output_type": "stream",
     "text": [
      "Avenida São Carlos, Vila Lutfalla, Jardim Santa Felícia, São Carlos, Região Imediata de São Carlos, Região Geográfica Intermediária de Araraquara, São Paulo, Região Sudeste, 13570-592, Brasil\n",
      "Rua Salomão Dibbo, Jardim Lutfalla, Jardim Santa Felícia, São Carlos, Região Imediata de São Carlos, Região Geográfica Intermediária de Araraquara, São Paulo, Região Sudeste, 13560-540, Brasil\n",
      "Rua São Sebastião, Parque Santa Mônica, Jardim Santa Felícia, São Carlos, Região Imediata de São Carlos, Região Geográfica Intermediária de Araraquara, São Paulo, Região Sudeste, 13561-180, Brasil\n",
      "Rua Quinze de Novembro, Parque Santa Mônica, Jardim Santa Felícia, São Carlos, Região Imediata de São Carlos, Região Geográfica Intermediária de Araraquara, São Paulo, Região Sudeste, 13560-061, Brasil\n",
      "Avenida Comendador Alfredo Maffei, Centro, Jardim Santa Felícia, São Carlos, Região Imediata de São Carlos, Região Geográfica Intermediária de Araraquara, São Paulo, Região Sudeste, 13561-270, Brasil\n",
      "Auto Posto Bandeira, 2120, Avenida Doutor Carlos Botelho, Jardim Macarengo, Jardim Santa Felícia, São Carlos, Região Imediata de São Carlos, Região Geográfica Intermediária de Araraquara, São Paulo, Região Sudeste, 13560-251, Brasil\n"
     ]
    }
   ],
   "source": [
    "cont=0\n",
    "for dado in dados1:\n",
    "    print(dados1[cont])\n",
    "    cont= cont+1"
   ]
  },
  {
   "cell_type": "code",
   "execution_count": 117,
   "id": "8143a700-74c6-4434-8da4-38c5e00cfeed",
   "metadata": {},
   "outputs": [],
   "source": [
    "dados1.to_csv(\"endereco_completo.csv\")"
   ]
  }
 ],
 "metadata": {
  "kernelspec": {
   "display_name": "Python 3 (ipykernel)",
   "language": "python",
   "name": "python3"
  },
  "language_info": {
   "codemirror_mode": {
    "name": "ipython",
    "version": 3
   },
   "file_extension": ".py",
   "mimetype": "text/x-python",
   "name": "python",
   "nbconvert_exporter": "python",
   "pygments_lexer": "ipython3",
   "version": "3.11.4"
  }
 },
 "nbformat": 4,
 "nbformat_minor": 5
}
